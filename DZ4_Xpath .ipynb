{
 "cells": [
  {
   "cell_type": "code",
   "execution_count": 81,
   "metadata": {},
   "outputs": [],
   "source": [
    "import requests\n",
    "from lxml import html\n",
    "from pprint import pprint\n",
    "from pymongo import MongoClient"
   ]
  },
  {
   "cell_type": "code",
   "execution_count": null,
   "metadata": {},
   "outputs": [],
   "source": [
    "client = MongoClient('localhost', 27017)\n",
    "db = client['news']"
   ]
  },
  {
   "cell_type": "code",
   "execution_count": 62,
   "metadata": {},
   "outputs": [],
   "source": [
    "url = 'https://yandex.ru/news/'\n",
    "headers = {'User-Agent': 'Mozilla/5.0 (Windows NT 6.1; Win64; x64) AppleWebKit/537.36 (KHTML, like Gecko) Chrome/99.0.4844.82 Safari/537.36'}"
   ]
  },
  {
   "cell_type": "code",
   "execution_count": 63,
   "metadata": {},
   "outputs": [],
   "source": [
    "response = requests.get(url, headers=headers)"
   ]
  },
  {
   "cell_type": "code",
   "execution_count": 64,
   "metadata": {},
   "outputs": [],
   "source": [
    "dom = html.fromstring(response.text)"
   ]
  },
  {
   "cell_type": "code",
   "execution_count": 8,
   "metadata": {},
   "outputs": [
    {
     "data": {
      "text/plain": [
       "<Element html at 0x62f8908>"
      ]
     },
     "execution_count": 8,
     "metadata": {},
     "output_type": "execute_result"
    }
   ],
   "source": [
    "dom"
   ]
  },
  {
   "cell_type": "code",
   "execution_count": 9,
   "metadata": {},
   "outputs": [],
   "source": [
    "names = dom.xpath(\"//a[contains(@class, 'mg-card__link')]/text()\")"
   ]
  },
  {
   "cell_type": "code",
   "execution_count": 26,
   "metadata": {},
   "outputs": [
    {
     "data": {
      "text/plain": [
       "65"
      ]
     },
     "execution_count": 26,
     "metadata": {},
     "output_type": "execute_result"
    }
   ],
   "source": [
    "names\n",
    "len(names)"
   ]
  },
  {
   "cell_type": "code",
   "execution_count": 13,
   "metadata": {},
   "outputs": [],
   "source": [
    "sourse_names = dom.xpath(\"//a[contains(@class, 'mg-card__source-link')]/@aria-label\")"
   ]
  },
  {
   "cell_type": "code",
   "execution_count": 25,
   "metadata": {},
   "outputs": [
    {
     "data": {
      "text/plain": [
       "65"
      ]
     },
     "execution_count": 25,
     "metadata": {},
     "output_type": "execute_result"
    }
   ],
   "source": [
    "sourse_names\n",
    "len(sourse_names)"
   ]
  },
  {
   "cell_type": "code",
   "execution_count": 17,
   "metadata": {},
   "outputs": [],
   "source": [
    "publik_data = dom.xpath(\"//span[contains(@class, 'mg-card-source__time')]/text()\")"
   ]
  },
  {
   "cell_type": "code",
   "execution_count": 24,
   "metadata": {},
   "outputs": [
    {
     "data": {
      "text/plain": [
       "65"
      ]
     },
     "execution_count": 24,
     "metadata": {},
     "output_type": "execute_result"
    }
   ],
   "source": [
    "publik_data\n",
    "len(publik_data)"
   ]
  },
  {
   "cell_type": "code",
   "execution_count": 21,
   "metadata": {},
   "outputs": [],
   "source": [
    "link = dom.xpath(\"//h2[@class='mg-card__title']//@href\")"
   ]
  },
  {
   "cell_type": "code",
   "execution_count": 23,
   "metadata": {},
   "outputs": [
    {
     "data": {
      "text/plain": [
       "65"
      ]
     },
     "execution_count": 23,
     "metadata": {},
     "output_type": "execute_result"
    }
   ],
   "source": [
    "link\n",
    "len(link)"
   ]
  },
  {
   "cell_type": "code",
   "execution_count": 75,
   "metadata": {},
   "outputs": [],
   "source": [
    "items = dom.xpath(\"//div[contains(@class,'mg-grid__col mg-grid__col_xs_4')]\")"
   ]
  },
  {
   "cell_type": "code",
   "execution_count": 76,
   "metadata": {},
   "outputs": [
    {
     "data": {
      "text/plain": [
       "[<Element div at 0x790c188>,\n",
       " <Element div at 0x790ccc8>,\n",
       " <Element div at 0x79023b8>,\n",
       " <Element div at 0x79024f8>,\n",
       " <Element div at 0x7902a48>,\n",
       " <Element div at 0x641b5e8>,\n",
       " <Element div at 0x641b4f8>,\n",
       " <Element div at 0x641bd68>,\n",
       " <Element div at 0x78ff9f8>,\n",
       " <Element div at 0x78ffc78>,\n",
       " <Element div at 0x78ffe58>,\n",
       " <Element div at 0x78ffae8>,\n",
       " <Element div at 0x78ffb38>,\n",
       " <Element div at 0x78fff48>,\n",
       " <Element div at 0x78ffd68>,\n",
       " <Element div at 0x78ff958>,\n",
       " <Element div at 0x64105e8>,\n",
       " <Element div at 0x7905868>,\n",
       " <Element div at 0x7905c28>,\n",
       " <Element div at 0x7905cc8>,\n",
       " <Element div at 0x7905c78>,\n",
       " <Element div at 0x7905d18>]"
      ]
     },
     "execution_count": 76,
     "metadata": {},
     "output_type": "execute_result"
    }
   ],
   "source": [
    "items"
   ]
  },
  {
   "cell_type": "code",
   "execution_count": 86,
   "metadata": {},
   "outputs": [
    {
     "data": {
      "text/plain": [
       "(22,\n",
       " [{'names': ['Песков назвал огромной трагедией значительные потери среди\\xa0российских военных на\\xa0Украине'],\n",
       "   'link': ['https://yandex.ru/news/story/Peskov_nazval_ogromnoj_tragediej_znachitelnye_poteri_sredirossijskikh_voennykh_naUkraine--67df10fcfaf81c48d4156d2e13f03dba?lang=ru&rubric=index&fan=1&stid=jPzfju0Iq97s_o9_uqRl&t=1649353754&tt=true&persistent_id=191841831&story=6dfe25ec-a26d-5f1d-b9e4-7077ab45fd90'],\n",
       "   'publik_data': ['20:47'],\n",
       "   'sourse_names': ['Источник: РИА Новости'],\n",
       "   '_id': ObjectId('624f4443ddc629d948575abd')},\n",
       "  {'names': ['ВС России уничтожили скопление военной техники ВСУ в\\xa0Житомирской области'],\n",
       "   'link': ['https://yandex.ru/news/story/VS_Rossii_unichtozhili_skoplenie_voennoj_tekhniki_VSU_vZHitomirskoj_oblasti--313b7c5a2835aaad19c4c52b9ebaa7c6?lang=ru&rubric=index&fan=1&stid=khRvnxST5VvMQN4CaPTT&t=1649353754&tt=true&persistent_id=191842414&story=749b67e2-1765-51ad-8f15-101c59349e12'],\n",
       "   'publik_data': ['20:36'],\n",
       "   'sourse_names': ['Источник: RT на русском'],\n",
       "   '_id': ObjectId('624f4444ddc629d948575abe')},\n",
       "  {'names': ['Главреда «Новой газеты» Дмитрия Муратова облили краской в\\xa0поезде'],\n",
       "   'link': ['https://yandex.ru/news/story/Glavreda_Novoj_gazety_Dmitriya_Muratova_oblili_kraskoj_vpoezde--77b204bb6316964d5cd6c2714c417f86?lang=ru&rubric=index&fan=1&stid=1n8PEwCS4eECNstGl3-B&t=1649353754&tt=true&persistent_id=191843367&story=52a772a4-5991-5382-971b-67eb24bf56e6'],\n",
       "   'publik_data': ['20:46'],\n",
       "   'sourse_names': ['Источник: РБК'],\n",
       "   '_id': ObjectId('624f4444ddc629d948575abf')}])"
      ]
     },
     "execution_count": 86,
     "metadata": {},
     "output_type": "execute_result"
    }
   ],
   "source": [
    "news_all = []\n",
    "for item in items:\n",
    "    news = {}\n",
    "\n",
    "    news['names'] = item.xpath(\".//a[contains(@class, 'mg-card__link')]/text()\")\n",
    "    news['link'] = item.xpath(\".//h2[@class='mg-card__title']//@href\")\n",
    "    news['publik_data'] = item.xpath(\".//span[contains(@class, 'mg-card-source__time')]/text()\")\n",
    "    news['sourse_names'] = item.xpath(\".//a[contains(@class, 'mg-card__source-link')]/@aria-label\")\n",
    "\n",
    "    news_all.append(news)\n",
    "    db.news.insert_one(news)\n",
    "    \n",
    "len(news_all), news_all[:3]"
   ]
  },
  {
   "cell_type": "code",
   "execution_count": 87,
   "metadata": {},
   "outputs": [
    {
     "data": {
      "text/plain": [
       "22"
      ]
     },
     "execution_count": 87,
     "metadata": {},
     "output_type": "execute_result"
    }
   ],
   "source": [
    "db.news.count_documents({})"
   ]
  },
  {
   "cell_type": "code",
   "execution_count": null,
   "metadata": {},
   "outputs": [],
   "source": []
  }
 ],
 "metadata": {
  "kernelspec": {
   "display_name": "Python 3",
   "language": "python",
   "name": "python3"
  },
  "language_info": {
   "codemirror_mode": {
    "name": "ipython",
    "version": 3
   },
   "file_extension": ".py",
   "mimetype": "text/x-python",
   "name": "python",
   "nbconvert_exporter": "python",
   "pygments_lexer": "ipython3",
   "version": "3.7.6"
  }
 },
 "nbformat": 4,
 "nbformat_minor": 4
}
